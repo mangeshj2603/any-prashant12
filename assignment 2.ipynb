{
 "cells": [
  {
   "cell_type": "code",
   "execution_count": 2,
   "id": "520f9b71-9e21-43c2-ad78-87b1da402c8a",
   "metadata": {},
   "outputs": [
    {
     "name": "stdout",
     "output_type": "stream",
     "text": [
      "the sum = 918\n"
     ]
    }
   ],
   "source": [
    "# Calculate the sum, difference, product, and quotient of two numbers.\n",
    "a = 354\n",
    "b = 564\n",
    "print(\"the sum\", \"=\", int(a) + int(b))"
   ]
  },
  {
   "cell_type": "code",
   "execution_count": 3,
   "id": "b1ba0495-e3b7-4456-8c1b-a25909081171",
   "metadata": {},
   "outputs": [
    {
     "name": "stdout",
     "output_type": "stream",
     "text": [
      "diff = 22\n"
     ]
    }
   ],
   "source": [
    "# difference \n",
    "a = 546\n",
    "b = 524\n",
    "print(\"diff\",\"=\",int(a) - int(b))"
   ]
  },
  {
   "cell_type": "code",
   "execution_count": 1,
   "id": "93f3cbf6-58a0-4967-ad88-0c2d3efbed69",
   "metadata": {},
   "outputs": [
    {
     "name": "stdout",
     "output_type": "stream",
     "text": [
      "product = 11340\n"
     ]
    }
   ],
   "source": [
    "# product\n",
    "x = 252\n",
    "y = 45\n",
    "print(\"product\",\"=\",int(x) * int(y))"
   ]
  },
  {
   "cell_type": "code",
   "execution_count": 2,
   "id": "9fdea806-b383-4a69-b5ae-bcd20a898346",
   "metadata": {},
   "outputs": [
    {
     "name": "stdout",
     "output_type": "stream",
     "text": [
      "que = 840.5692307692308\n"
     ]
    }
   ],
   "source": [
    "# quetient\n",
    "v = 54637\n",
    "g = 65\n",
    "print(\"que\",\"=\", int(v) / int(g))"
   ]
  },
  {
   "cell_type": "code",
   "execution_count": 3,
   "id": "a768c0a8-9fab-4e13-a666-6fa39fe057fa",
   "metadata": {},
   "outputs": [
    {
     "name": "stdout",
     "output_type": "stream",
     "text": [
      "67\n"
     ]
    }
   ],
   "source": [
    "# Perform varios assignment operations on a variable.\n",
    "a = 35\n",
    "a += 32\n",
    "print(a)"
   ]
  },
  {
   "cell_type": "code",
   "execution_count": 4,
   "id": "0b5db1c0-7fb5-492c-9971-be50b5073ac6",
   "metadata": {},
   "outputs": [
    {
     "name": "stdout",
     "output_type": "stream",
     "text": [
      "13\n"
     ]
    }
   ],
   "source": [
    "a -= 54\n",
    "print(a)"
   ]
  },
  {
   "cell_type": "code",
   "execution_count": 5,
   "id": "10ba56eb-598f-428c-9ab3-5ccb30139322",
   "metadata": {},
   "outputs": [
    {
     "name": "stdout",
     "output_type": "stream",
     "text": [
      "559\n"
     ]
    }
   ],
   "source": [
    "a *= 43\n",
    "print(a)"
   ]
  },
  {
   "cell_type": "code",
   "execution_count": 7,
   "id": "3012865e-25d0-4031-a66e-08b8bf3d8b41",
   "metadata": {},
   "outputs": [
    {
     "name": "stdout",
     "output_type": "stream",
     "text": [
      "0.2887396694214876\n"
     ]
    }
   ],
   "source": [
    "a /= 44\n",
    "print(a)"
   ]
  },
  {
   "cell_type": "code",
   "execution_count": 2,
   "id": "80dfbe4e-4fcb-4b25-b6e2-cc923d7ff4d0",
   "metadata": {},
   "outputs": [
    {
     "data": {
      "text/plain": [
       "False"
      ]
     },
     "execution_count": 2,
     "metadata": {},
     "output_type": "execute_result"
    }
   ],
   "source": [
    "# Compare two n$mbers and print the res$lts.\n",
    "\n",
    "2 == 4"
   ]
  },
  {
   "cell_type": "code",
   "execution_count": 4,
   "id": "23cb2cd2-5dab-4fae-b723-9650b5ce980f",
   "metadata": {},
   "outputs": [
    {
     "data": {
      "text/plain": [
       "True"
      ]
     },
     "execution_count": 4,
     "metadata": {},
     "output_type": "execute_result"
    }
   ],
   "source": [
    "23 < 54"
   ]
  },
  {
   "cell_type": "code",
   "execution_count": 2,
   "id": "43aeaa28-32ac-4341-92af-633b8bc1c8f0",
   "metadata": {},
   "outputs": [
    {
     "data": {
      "text/plain": [
       "True"
      ]
     },
     "execution_count": 2,
     "metadata": {},
     "output_type": "execute_result"
    }
   ],
   "source": [
    "34 != 65"
   ]
  },
  {
   "cell_type": "code",
   "execution_count": 4,
   "id": "93358408-2e5f-496a-aba9-b0c2227c1d30",
   "metadata": {},
   "outputs": [
    {
     "data": {
      "text/plain": [
       "True"
      ]
     },
     "execution_count": 4,
     "metadata": {},
     "output_type": "execute_result"
    }
   ],
   "source": [
    "# Check conditions using logical operators.\n",
    "(54 > 45) and (3 < 6)"
   ]
  },
  {
   "cell_type": "code",
   "execution_count": 1,
   "id": "acd7d7cc-0958-46c7-81c9-ff698acc6261",
   "metadata": {},
   "outputs": [
    {
     "data": {
      "text/plain": [
       "True"
      ]
     },
     "execution_count": 1,
     "metadata": {},
     "output_type": "execute_result"
    }
   ],
   "source": [
    "(546 < 876) or (657 > 546)"
   ]
  },
  {
   "cell_type": "code",
   "execution_count": 2,
   "id": "6faa1741-6d68-4db7-a468-74358ab4297f",
   "metadata": {},
   "outputs": [
    {
     "name": "stdout",
     "output_type": "stream",
     "text": [
      "True\n"
     ]
    }
   ],
   "source": [
    "z = not(\"prashant\" == \"akash\")\n",
    "print(z)"
   ]
  },
  {
   "cell_type": "code",
   "execution_count": 1,
   "id": "2e676d5a-b3a3-4773-9195-1093cac68431",
   "metadata": {},
   "outputs": [
    {
     "data": {
      "text/plain": [
       "'0b100'"
      ]
     },
     "execution_count": 1,
     "metadata": {},
     "output_type": "execute_result"
    }
   ],
   "source": [
    "# Perform bitwise operations on any two integers.\n",
    "z = 5\n",
    "x = 6\n",
    "bin(z & x)\n"
   ]
  },
  {
   "cell_type": "code",
   "execution_count": 2,
   "id": "a6694b28-e6c4-44e1-911f-f5a7f65bdfa1",
   "metadata": {},
   "outputs": [
    {
     "data": {
      "text/plain": [
       "'0b111'"
      ]
     },
     "execution_count": 2,
     "metadata": {},
     "output_type": "execute_result"
    }
   ],
   "source": [
    "# or condition\n",
    "q = 3\n",
    "w = 4\n",
    "bin(q | w)"
   ]
  },
  {
   "cell_type": "code",
   "execution_count": 1,
   "id": "e859a7df-40f6-4e9e-ab4f-3df08df0876f",
   "metadata": {},
   "outputs": [
    {
     "data": {
      "text/plain": [
       "'0b1111'"
      ]
     },
     "execution_count": 1,
     "metadata": {},
     "output_type": "execute_result"
    }
   ],
   "source": [
    "# xop condition\n",
    "a = 7\n",
    "s = 8\n",
    "bin(a ^ s)"
   ]
  },
  {
   "cell_type": "code",
   "execution_count": 1,
   "id": "cc42e6e7-5739-40d1-be63-5d18c67b1979",
   "metadata": {},
   "outputs": [
    {
     "name": "stdout",
     "output_type": "stream",
     "text": [
      "1156\n"
     ]
    }
   ],
   "source": [
    "# Use unary operators to change the sign of a number.\n",
    "square = 34 ** 2\n",
    "\n",
    "print(square)\n"
   ]
  },
  {
   "cell_type": "code",
   "execution_count": null,
   "id": "082478e2-6ebe-46d1-a208-102cc5964784",
   "metadata": {},
   "outputs": [],
   "source": []
  }
 ],
 "metadata": {
  "kernelspec": {
   "display_name": "Python 3 (ipykernel)",
   "language": "python",
   "name": "python3"
  },
  "language_info": {
   "codemirror_mode": {
    "name": "ipython",
    "version": 3
   },
   "file_extension": ".py",
   "mimetype": "text/x-python",
   "name": "python",
   "nbconvert_exporter": "python",
   "pygments_lexer": "ipython3",
   "version": "3.10.8"
  }
 },
 "nbformat": 4,
 "nbformat_minor": 5
}
